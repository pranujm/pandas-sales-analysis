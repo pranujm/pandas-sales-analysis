{
 "cells": [
  {
   "cell_type": "markdown",
   "metadata": {},
   "source": [
    "# Sales Analysis"
   ]
  },
  {
   "cell_type": "markdown",
   "metadata": {
    "jp-MarkdownHeadingCollapsed": true
   },
   "source": [
    "## Read Data"
   ]
  },
  {
   "cell_type": "markdown",
   "metadata": {
    "jp-MarkdownHeadingCollapsed": true
   },
   "source": [
    "#### Import necessary libraries"
   ]
  },
  {
   "cell_type": "code",
   "execution_count": 187,
   "metadata": {},
   "outputs": [],
   "source": [
    "import pandas as pd\n",
    "import os\n",
    "import matplotlib.pyplot as plt\n",
    "from itertools import combinations \n",
    "from collections import Counter"
   ]
  },
  {
   "cell_type": "markdown",
   "metadata": {
    "jp-MarkdownHeadingCollapsed": true
   },
   "source": [
    "#### Task 1: Merge data from each month into one CSV"
   ]
  },
  {
   "cell_type": "code",
   "execution_count": 188,
   "metadata": {},
   "outputs": [],
   "source": [
    "df = pd.read_csv('./Sales_Data/Sales_January_2019.csv')\n",
    "\n",
    "all_months_data = pd.DataFrame()\n",
    "\n",
    "files = [file for file in os.listdir('./Sales_Data')]\n",
    "\n",
    "for file in files: \n",
    "    df = pd.read_csv('./Sales_Data/' + file)\n",
    "    all_months_data = pd.concat([all_months_data, df])\n",
    "\n",
    "all_months_data.to_csv('all_data.csv', index = False)\n"
   ]
  },
  {
   "cell_type": "markdown",
   "metadata": {
    "jp-MarkdownHeadingCollapsed": true
   },
   "source": [
    "#### Read updated DataFrame"
   ]
  },
  {
   "cell_type": "code",
   "execution_count": 189,
   "metadata": {},
   "outputs": [
    {
     "data": {
      "text/html": [
       "<div>\n",
       "<style scoped>\n",
       "    .dataframe tbody tr th:only-of-type {\n",
       "        vertical-align: middle;\n",
       "    }\n",
       "\n",
       "    .dataframe tbody tr th {\n",
       "        vertical-align: top;\n",
       "    }\n",
       "\n",
       "    .dataframe thead th {\n",
       "        text-align: right;\n",
       "    }\n",
       "</style>\n",
       "<table border=\"1\" class=\"dataframe\">\n",
       "  <thead>\n",
       "    <tr style=\"text-align: right;\">\n",
       "      <th></th>\n",
       "      <th>Order ID</th>\n",
       "      <th>Product</th>\n",
       "      <th>Quantity Ordered</th>\n",
       "      <th>Price Each</th>\n",
       "      <th>Order Date</th>\n",
       "      <th>Purchase Address</th>\n",
       "    </tr>\n",
       "  </thead>\n",
       "  <tbody>\n",
       "    <tr>\n",
       "      <th>0</th>\n",
       "      <td>295665</td>\n",
       "      <td>Macbook Pro Laptop</td>\n",
       "      <td>1</td>\n",
       "      <td>1700</td>\n",
       "      <td>12/30/19 00:01</td>\n",
       "      <td>136 Church St, New York City, NY 10001</td>\n",
       "    </tr>\n",
       "    <tr>\n",
       "      <th>1</th>\n",
       "      <td>295666</td>\n",
       "      <td>LG Washing Machine</td>\n",
       "      <td>1</td>\n",
       "      <td>600.0</td>\n",
       "      <td>12/29/19 07:03</td>\n",
       "      <td>562 2nd St, New York City, NY 10001</td>\n",
       "    </tr>\n",
       "    <tr>\n",
       "      <th>2</th>\n",
       "      <td>295667</td>\n",
       "      <td>USB-C Charging Cable</td>\n",
       "      <td>1</td>\n",
       "      <td>11.95</td>\n",
       "      <td>12/12/19 18:21</td>\n",
       "      <td>277 Main St, New York City, NY 10001</td>\n",
       "    </tr>\n",
       "    <tr>\n",
       "      <th>3</th>\n",
       "      <td>295668</td>\n",
       "      <td>27in FHD Monitor</td>\n",
       "      <td>1</td>\n",
       "      <td>149.99</td>\n",
       "      <td>12/22/19 15:13</td>\n",
       "      <td>410 6th St, San Francisco, CA 94016</td>\n",
       "    </tr>\n",
       "    <tr>\n",
       "      <th>4</th>\n",
       "      <td>295669</td>\n",
       "      <td>USB-C Charging Cable</td>\n",
       "      <td>1</td>\n",
       "      <td>11.95</td>\n",
       "      <td>12/18/19 12:38</td>\n",
       "      <td>43 Hill St, Atlanta, GA 30301</td>\n",
       "    </tr>\n",
       "  </tbody>\n",
       "</table>\n",
       "</div>"
      ],
      "text/plain": [
       "  Order ID               Product Quantity Ordered Price Each      Order Date  \\\n",
       "0   295665    Macbook Pro Laptop                1       1700  12/30/19 00:01   \n",
       "1   295666    LG Washing Machine                1      600.0  12/29/19 07:03   \n",
       "2   295667  USB-C Charging Cable                1      11.95  12/12/19 18:21   \n",
       "3   295668      27in FHD Monitor                1     149.99  12/22/19 15:13   \n",
       "4   295669  USB-C Charging Cable                1      11.95  12/18/19 12:38   \n",
       "\n",
       "                         Purchase Address  \n",
       "0  136 Church St, New York City, NY 10001  \n",
       "1     562 2nd St, New York City, NY 10001  \n",
       "2    277 Main St, New York City, NY 10001  \n",
       "3     410 6th St, San Francisco, CA 94016  \n",
       "4           43 Hill St, Atlanta, GA 30301  "
      ]
     },
     "execution_count": 189,
     "metadata": {},
     "output_type": "execute_result"
    }
   ],
   "source": [
    "all_data = pd.read_csv('all_data.csv')\n",
    "all_data.head()"
   ]
  },
  {
   "cell_type": "markdown",
   "metadata": {
    "jp-MarkdownHeadingCollapsed": true
   },
   "source": [
    "## Clean up data"
   ]
  },
  {
   "cell_type": "markdown",
   "metadata": {
    "jp-MarkdownHeadingCollapsed": true
   },
   "source": [
    "#### Drop rows of NaN"
   ]
  },
  {
   "cell_type": "code",
   "execution_count": 190,
   "metadata": {},
   "outputs": [
    {
     "data": {
      "text/html": [
       "<div>\n",
       "<style scoped>\n",
       "    .dataframe tbody tr th:only-of-type {\n",
       "        vertical-align: middle;\n",
       "    }\n",
       "\n",
       "    .dataframe tbody tr th {\n",
       "        vertical-align: top;\n",
       "    }\n",
       "\n",
       "    .dataframe thead th {\n",
       "        text-align: right;\n",
       "    }\n",
       "</style>\n",
       "<table border=\"1\" class=\"dataframe\">\n",
       "  <thead>\n",
       "    <tr style=\"text-align: right;\">\n",
       "      <th></th>\n",
       "      <th>Order ID</th>\n",
       "      <th>Product</th>\n",
       "      <th>Quantity Ordered</th>\n",
       "      <th>Price Each</th>\n",
       "      <th>Order Date</th>\n",
       "      <th>Purchase Address</th>\n",
       "    </tr>\n",
       "  </thead>\n",
       "  <tbody>\n",
       "    <tr>\n",
       "      <th>0</th>\n",
       "      <td>295665</td>\n",
       "      <td>Macbook Pro Laptop</td>\n",
       "      <td>1</td>\n",
       "      <td>1700</td>\n",
       "      <td>12/30/19 00:01</td>\n",
       "      <td>136 Church St, New York City, NY 10001</td>\n",
       "    </tr>\n",
       "    <tr>\n",
       "      <th>1</th>\n",
       "      <td>295666</td>\n",
       "      <td>LG Washing Machine</td>\n",
       "      <td>1</td>\n",
       "      <td>600.0</td>\n",
       "      <td>12/29/19 07:03</td>\n",
       "      <td>562 2nd St, New York City, NY 10001</td>\n",
       "    </tr>\n",
       "    <tr>\n",
       "      <th>2</th>\n",
       "      <td>295667</td>\n",
       "      <td>USB-C Charging Cable</td>\n",
       "      <td>1</td>\n",
       "      <td>11.95</td>\n",
       "      <td>12/12/19 18:21</td>\n",
       "      <td>277 Main St, New York City, NY 10001</td>\n",
       "    </tr>\n",
       "    <tr>\n",
       "      <th>3</th>\n",
       "      <td>295668</td>\n",
       "      <td>27in FHD Monitor</td>\n",
       "      <td>1</td>\n",
       "      <td>149.99</td>\n",
       "      <td>12/22/19 15:13</td>\n",
       "      <td>410 6th St, San Francisco, CA 94016</td>\n",
       "    </tr>\n",
       "    <tr>\n",
       "      <th>4</th>\n",
       "      <td>295669</td>\n",
       "      <td>USB-C Charging Cable</td>\n",
       "      <td>1</td>\n",
       "      <td>11.95</td>\n",
       "      <td>12/18/19 12:38</td>\n",
       "      <td>43 Hill St, Atlanta, GA 30301</td>\n",
       "    </tr>\n",
       "  </tbody>\n",
       "</table>\n",
       "</div>"
      ],
      "text/plain": [
       "  Order ID               Product Quantity Ordered Price Each      Order Date  \\\n",
       "0   295665    Macbook Pro Laptop                1       1700  12/30/19 00:01   \n",
       "1   295666    LG Washing Machine                1      600.0  12/29/19 07:03   \n",
       "2   295667  USB-C Charging Cable                1      11.95  12/12/19 18:21   \n",
       "3   295668      27in FHD Monitor                1     149.99  12/22/19 15:13   \n",
       "4   295669  USB-C Charging Cable                1      11.95  12/18/19 12:38   \n",
       "\n",
       "                         Purchase Address  \n",
       "0  136 Church St, New York City, NY 10001  \n",
       "1     562 2nd St, New York City, NY 10001  \n",
       "2    277 Main St, New York City, NY 10001  \n",
       "3     410 6th St, San Francisco, CA 94016  \n",
       "4           43 Hill St, Atlanta, GA 30301  "
      ]
     },
     "execution_count": 190,
     "metadata": {},
     "output_type": "execute_result"
    }
   ],
   "source": [
    "nan_df = all_data[all_data.isna().any(axis = 1)]\n",
    "nan_df.head()\n",
    "\n",
    "all_data = all_data.dropna(how = 'all')\n",
    "all_data.head()"
   ]
  },
  {
   "cell_type": "markdown",
   "metadata": {
    "jp-MarkdownHeadingCollapsed": true
   },
   "source": [
    "#### Find 'Or' and delete it"
   ]
  },
  {
   "cell_type": "code",
   "execution_count": 191,
   "metadata": {},
   "outputs": [],
   "source": [
    "all_data = all_data[all_data['Order Date'].str[0:2] != 'Or']"
   ]
  },
  {
   "cell_type": "markdown",
   "metadata": {
    "jp-MarkdownHeadingCollapsed": true
   },
   "source": [
    "#### Convert columns to the correct type"
   ]
  },
  {
   "cell_type": "code",
   "execution_count": 192,
   "metadata": {},
   "outputs": [],
   "source": [
    "all_data['Quantity Ordered'] = pd.to_numeric(all_data['Quantity Ordered']) # make int\n",
    "all_data['Price Each'] = pd.to_numeric(all_data['Price Each']) # make float"
   ]
  },
  {
   "cell_type": "markdown",
   "metadata": {
    "jp-MarkdownHeadingCollapsed": true
   },
   "source": [
    "## Augment data with additional columns"
   ]
  },
  {
   "cell_type": "markdown",
   "metadata": {
    "jp-MarkdownHeadingCollapsed": true
   },
   "source": [
    "#### Task 2: Add 'Month' column"
   ]
  },
  {
   "cell_type": "code",
   "execution_count": 193,
   "metadata": {},
   "outputs": [
    {
     "data": {
      "text/html": [
       "<div>\n",
       "<style scoped>\n",
       "    .dataframe tbody tr th:only-of-type {\n",
       "        vertical-align: middle;\n",
       "    }\n",
       "\n",
       "    .dataframe tbody tr th {\n",
       "        vertical-align: top;\n",
       "    }\n",
       "\n",
       "    .dataframe thead th {\n",
       "        text-align: right;\n",
       "    }\n",
       "</style>\n",
       "<table border=\"1\" class=\"dataframe\">\n",
       "  <thead>\n",
       "    <tr style=\"text-align: right;\">\n",
       "      <th></th>\n",
       "      <th>Order ID</th>\n",
       "      <th>Product</th>\n",
       "      <th>Quantity Ordered</th>\n",
       "      <th>Price Each</th>\n",
       "      <th>Order Date</th>\n",
       "      <th>Purchase Address</th>\n",
       "      <th>Month</th>\n",
       "    </tr>\n",
       "  </thead>\n",
       "  <tbody>\n",
       "    <tr>\n",
       "      <th>0</th>\n",
       "      <td>295665</td>\n",
       "      <td>Macbook Pro Laptop</td>\n",
       "      <td>1</td>\n",
       "      <td>1700.00</td>\n",
       "      <td>12/30/19 00:01</td>\n",
       "      <td>136 Church St, New York City, NY 10001</td>\n",
       "      <td>12</td>\n",
       "    </tr>\n",
       "    <tr>\n",
       "      <th>1</th>\n",
       "      <td>295666</td>\n",
       "      <td>LG Washing Machine</td>\n",
       "      <td>1</td>\n",
       "      <td>600.00</td>\n",
       "      <td>12/29/19 07:03</td>\n",
       "      <td>562 2nd St, New York City, NY 10001</td>\n",
       "      <td>12</td>\n",
       "    </tr>\n",
       "    <tr>\n",
       "      <th>2</th>\n",
       "      <td>295667</td>\n",
       "      <td>USB-C Charging Cable</td>\n",
       "      <td>1</td>\n",
       "      <td>11.95</td>\n",
       "      <td>12/12/19 18:21</td>\n",
       "      <td>277 Main St, New York City, NY 10001</td>\n",
       "      <td>12</td>\n",
       "    </tr>\n",
       "    <tr>\n",
       "      <th>3</th>\n",
       "      <td>295668</td>\n",
       "      <td>27in FHD Monitor</td>\n",
       "      <td>1</td>\n",
       "      <td>149.99</td>\n",
       "      <td>12/22/19 15:13</td>\n",
       "      <td>410 6th St, San Francisco, CA 94016</td>\n",
       "      <td>12</td>\n",
       "    </tr>\n",
       "    <tr>\n",
       "      <th>4</th>\n",
       "      <td>295669</td>\n",
       "      <td>USB-C Charging Cable</td>\n",
       "      <td>1</td>\n",
       "      <td>11.95</td>\n",
       "      <td>12/18/19 12:38</td>\n",
       "      <td>43 Hill St, Atlanta, GA 30301</td>\n",
       "      <td>12</td>\n",
       "    </tr>\n",
       "  </tbody>\n",
       "</table>\n",
       "</div>"
      ],
      "text/plain": [
       "  Order ID               Product  Quantity Ordered  Price Each  \\\n",
       "0   295665    Macbook Pro Laptop                 1     1700.00   \n",
       "1   295666    LG Washing Machine                 1      600.00   \n",
       "2   295667  USB-C Charging Cable                 1       11.95   \n",
       "3   295668      27in FHD Monitor                 1      149.99   \n",
       "4   295669  USB-C Charging Cable                 1       11.95   \n",
       "\n",
       "       Order Date                        Purchase Address  Month  \n",
       "0  12/30/19 00:01  136 Church St, New York City, NY 10001     12  \n",
       "1  12/29/19 07:03     562 2nd St, New York City, NY 10001     12  \n",
       "2  12/12/19 18:21    277 Main St, New York City, NY 10001     12  \n",
       "3  12/22/19 15:13     410 6th St, San Francisco, CA 94016     12  \n",
       "4  12/18/19 12:38           43 Hill St, Atlanta, GA 30301     12  "
      ]
     },
     "execution_count": 193,
     "metadata": {},
     "output_type": "execute_result"
    }
   ],
   "source": [
    "all_data['Month'] = all_data['Order Date'].str[0:2]\n",
    "all_data['Month'] = all_data['Month'].astype('int32')\n",
    "all_data.head()"
   ]
  },
  {
   "cell_type": "markdown",
   "metadata": {
    "jp-MarkdownHeadingCollapsed": true
   },
   "source": [
    "#### Task 3: Add a 'Sales' column"
   ]
  },
  {
   "cell_type": "code",
   "execution_count": 194,
   "metadata": {},
   "outputs": [
    {
     "data": {
      "text/html": [
       "<div>\n",
       "<style scoped>\n",
       "    .dataframe tbody tr th:only-of-type {\n",
       "        vertical-align: middle;\n",
       "    }\n",
       "\n",
       "    .dataframe tbody tr th {\n",
       "        vertical-align: top;\n",
       "    }\n",
       "\n",
       "    .dataframe thead th {\n",
       "        text-align: right;\n",
       "    }\n",
       "</style>\n",
       "<table border=\"1\" class=\"dataframe\">\n",
       "  <thead>\n",
       "    <tr style=\"text-align: right;\">\n",
       "      <th></th>\n",
       "      <th>Order ID</th>\n",
       "      <th>Product</th>\n",
       "      <th>Quantity Ordered</th>\n",
       "      <th>Price Each</th>\n",
       "      <th>Order Date</th>\n",
       "      <th>Purchase Address</th>\n",
       "      <th>Month</th>\n",
       "      <th>Sales</th>\n",
       "    </tr>\n",
       "  </thead>\n",
       "  <tbody>\n",
       "    <tr>\n",
       "      <th>0</th>\n",
       "      <td>295665</td>\n",
       "      <td>Macbook Pro Laptop</td>\n",
       "      <td>1</td>\n",
       "      <td>1700.00</td>\n",
       "      <td>12/30/19 00:01</td>\n",
       "      <td>136 Church St, New York City, NY 10001</td>\n",
       "      <td>12</td>\n",
       "      <td>1700.00</td>\n",
       "    </tr>\n",
       "    <tr>\n",
       "      <th>1</th>\n",
       "      <td>295666</td>\n",
       "      <td>LG Washing Machine</td>\n",
       "      <td>1</td>\n",
       "      <td>600.00</td>\n",
       "      <td>12/29/19 07:03</td>\n",
       "      <td>562 2nd St, New York City, NY 10001</td>\n",
       "      <td>12</td>\n",
       "      <td>600.00</td>\n",
       "    </tr>\n",
       "    <tr>\n",
       "      <th>2</th>\n",
       "      <td>295667</td>\n",
       "      <td>USB-C Charging Cable</td>\n",
       "      <td>1</td>\n",
       "      <td>11.95</td>\n",
       "      <td>12/12/19 18:21</td>\n",
       "      <td>277 Main St, New York City, NY 10001</td>\n",
       "      <td>12</td>\n",
       "      <td>11.95</td>\n",
       "    </tr>\n",
       "    <tr>\n",
       "      <th>3</th>\n",
       "      <td>295668</td>\n",
       "      <td>27in FHD Monitor</td>\n",
       "      <td>1</td>\n",
       "      <td>149.99</td>\n",
       "      <td>12/22/19 15:13</td>\n",
       "      <td>410 6th St, San Francisco, CA 94016</td>\n",
       "      <td>12</td>\n",
       "      <td>149.99</td>\n",
       "    </tr>\n",
       "    <tr>\n",
       "      <th>4</th>\n",
       "      <td>295669</td>\n",
       "      <td>USB-C Charging Cable</td>\n",
       "      <td>1</td>\n",
       "      <td>11.95</td>\n",
       "      <td>12/18/19 12:38</td>\n",
       "      <td>43 Hill St, Atlanta, GA 30301</td>\n",
       "      <td>12</td>\n",
       "      <td>11.95</td>\n",
       "    </tr>\n",
       "    <tr>\n",
       "      <th>...</th>\n",
       "      <td>...</td>\n",
       "      <td>...</td>\n",
       "      <td>...</td>\n",
       "      <td>...</td>\n",
       "      <td>...</td>\n",
       "      <td>...</td>\n",
       "      <td>...</td>\n",
       "      <td>...</td>\n",
       "    </tr>\n",
       "    <tr>\n",
       "      <th>186845</th>\n",
       "      <td>222905</td>\n",
       "      <td>AAA Batteries (4-pack)</td>\n",
       "      <td>1</td>\n",
       "      <td>2.99</td>\n",
       "      <td>06/07/19 19:02</td>\n",
       "      <td>795 Pine St, Boston, MA 02215</td>\n",
       "      <td>6</td>\n",
       "      <td>2.99</td>\n",
       "    </tr>\n",
       "    <tr>\n",
       "      <th>186846</th>\n",
       "      <td>222906</td>\n",
       "      <td>27in FHD Monitor</td>\n",
       "      <td>1</td>\n",
       "      <td>149.99</td>\n",
       "      <td>06/01/19 19:29</td>\n",
       "      <td>495 North St, New York City, NY 10001</td>\n",
       "      <td>6</td>\n",
       "      <td>149.99</td>\n",
       "    </tr>\n",
       "    <tr>\n",
       "      <th>186847</th>\n",
       "      <td>222907</td>\n",
       "      <td>USB-C Charging Cable</td>\n",
       "      <td>1</td>\n",
       "      <td>11.95</td>\n",
       "      <td>06/22/19 18:57</td>\n",
       "      <td>319 Ridge St, San Francisco, CA 94016</td>\n",
       "      <td>6</td>\n",
       "      <td>11.95</td>\n",
       "    </tr>\n",
       "    <tr>\n",
       "      <th>186848</th>\n",
       "      <td>222908</td>\n",
       "      <td>USB-C Charging Cable</td>\n",
       "      <td>1</td>\n",
       "      <td>11.95</td>\n",
       "      <td>06/26/19 18:35</td>\n",
       "      <td>916 Main St, San Francisco, CA 94016</td>\n",
       "      <td>6</td>\n",
       "      <td>11.95</td>\n",
       "    </tr>\n",
       "    <tr>\n",
       "      <th>186849</th>\n",
       "      <td>222909</td>\n",
       "      <td>AAA Batteries (4-pack)</td>\n",
       "      <td>1</td>\n",
       "      <td>2.99</td>\n",
       "      <td>06/25/19 14:33</td>\n",
       "      <td>209 11th St, Atlanta, GA 30301</td>\n",
       "      <td>6</td>\n",
       "      <td>2.99</td>\n",
       "    </tr>\n",
       "  </tbody>\n",
       "</table>\n",
       "<p>185950 rows × 8 columns</p>\n",
       "</div>"
      ],
      "text/plain": [
       "       Order ID                 Product  Quantity Ordered  Price Each  \\\n",
       "0        295665      Macbook Pro Laptop                 1     1700.00   \n",
       "1        295666      LG Washing Machine                 1      600.00   \n",
       "2        295667    USB-C Charging Cable                 1       11.95   \n",
       "3        295668        27in FHD Monitor                 1      149.99   \n",
       "4        295669    USB-C Charging Cable                 1       11.95   \n",
       "...         ...                     ...               ...         ...   \n",
       "186845   222905  AAA Batteries (4-pack)                 1        2.99   \n",
       "186846   222906        27in FHD Monitor                 1      149.99   \n",
       "186847   222907    USB-C Charging Cable                 1       11.95   \n",
       "186848   222908    USB-C Charging Cable                 1       11.95   \n",
       "186849   222909  AAA Batteries (4-pack)                 1        2.99   \n",
       "\n",
       "            Order Date                        Purchase Address  Month    Sales  \n",
       "0       12/30/19 00:01  136 Church St, New York City, NY 10001     12  1700.00  \n",
       "1       12/29/19 07:03     562 2nd St, New York City, NY 10001     12   600.00  \n",
       "2       12/12/19 18:21    277 Main St, New York City, NY 10001     12    11.95  \n",
       "3       12/22/19 15:13     410 6th St, San Francisco, CA 94016     12   149.99  \n",
       "4       12/18/19 12:38           43 Hill St, Atlanta, GA 30301     12    11.95  \n",
       "...                ...                                     ...    ...      ...  \n",
       "186845  06/07/19 19:02           795 Pine St, Boston, MA 02215      6     2.99  \n",
       "186846  06/01/19 19:29   495 North St, New York City, NY 10001      6   149.99  \n",
       "186847  06/22/19 18:57   319 Ridge St, San Francisco, CA 94016      6    11.95  \n",
       "186848  06/26/19 18:35    916 Main St, San Francisco, CA 94016      6    11.95  \n",
       "186849  06/25/19 14:33          209 11th St, Atlanta, GA 30301      6     2.99  \n",
       "\n",
       "[185950 rows x 8 columns]"
      ]
     },
     "execution_count": 194,
     "metadata": {},
     "output_type": "execute_result"
    }
   ],
   "source": [
    "all_data['Sales'] = all_data['Quantity Ordered'] * all_data['Price Each']\n",
    "all_data"
   ]
  },
  {
   "cell_type": "markdown",
   "metadata": {
    "jp-MarkdownHeadingCollapsed": true
   },
   "source": [
    "#### Task 4: Add a 'City' column"
   ]
  },
  {
   "cell_type": "code",
   "execution_count": 195,
   "metadata": {},
   "outputs": [
    {
     "data": {
      "text/html": [
       "<div>\n",
       "<style scoped>\n",
       "    .dataframe tbody tr th:only-of-type {\n",
       "        vertical-align: middle;\n",
       "    }\n",
       "\n",
       "    .dataframe tbody tr th {\n",
       "        vertical-align: top;\n",
       "    }\n",
       "\n",
       "    .dataframe thead th {\n",
       "        text-align: right;\n",
       "    }\n",
       "</style>\n",
       "<table border=\"1\" class=\"dataframe\">\n",
       "  <thead>\n",
       "    <tr style=\"text-align: right;\">\n",
       "      <th></th>\n",
       "      <th>Order ID</th>\n",
       "      <th>Product</th>\n",
       "      <th>Quantity Ordered</th>\n",
       "      <th>Price Each</th>\n",
       "      <th>Order Date</th>\n",
       "      <th>Purchase Address</th>\n",
       "      <th>Month</th>\n",
       "      <th>Sales</th>\n",
       "      <th>City</th>\n",
       "    </tr>\n",
       "  </thead>\n",
       "  <tbody>\n",
       "    <tr>\n",
       "      <th>0</th>\n",
       "      <td>295665</td>\n",
       "      <td>Macbook Pro Laptop</td>\n",
       "      <td>1</td>\n",
       "      <td>1700.00</td>\n",
       "      <td>12/30/19 00:01</td>\n",
       "      <td>136 Church St, New York City, NY 10001</td>\n",
       "      <td>12</td>\n",
       "      <td>1700.00</td>\n",
       "      <td>New York City (NY)</td>\n",
       "    </tr>\n",
       "    <tr>\n",
       "      <th>1</th>\n",
       "      <td>295666</td>\n",
       "      <td>LG Washing Machine</td>\n",
       "      <td>1</td>\n",
       "      <td>600.00</td>\n",
       "      <td>12/29/19 07:03</td>\n",
       "      <td>562 2nd St, New York City, NY 10001</td>\n",
       "      <td>12</td>\n",
       "      <td>600.00</td>\n",
       "      <td>New York City (NY)</td>\n",
       "    </tr>\n",
       "    <tr>\n",
       "      <th>2</th>\n",
       "      <td>295667</td>\n",
       "      <td>USB-C Charging Cable</td>\n",
       "      <td>1</td>\n",
       "      <td>11.95</td>\n",
       "      <td>12/12/19 18:21</td>\n",
       "      <td>277 Main St, New York City, NY 10001</td>\n",
       "      <td>12</td>\n",
       "      <td>11.95</td>\n",
       "      <td>New York City (NY)</td>\n",
       "    </tr>\n",
       "    <tr>\n",
       "      <th>3</th>\n",
       "      <td>295668</td>\n",
       "      <td>27in FHD Monitor</td>\n",
       "      <td>1</td>\n",
       "      <td>149.99</td>\n",
       "      <td>12/22/19 15:13</td>\n",
       "      <td>410 6th St, San Francisco, CA 94016</td>\n",
       "      <td>12</td>\n",
       "      <td>149.99</td>\n",
       "      <td>San Francisco (CA)</td>\n",
       "    </tr>\n",
       "    <tr>\n",
       "      <th>4</th>\n",
       "      <td>295669</td>\n",
       "      <td>USB-C Charging Cable</td>\n",
       "      <td>1</td>\n",
       "      <td>11.95</td>\n",
       "      <td>12/18/19 12:38</td>\n",
       "      <td>43 Hill St, Atlanta, GA 30301</td>\n",
       "      <td>12</td>\n",
       "      <td>11.95</td>\n",
       "      <td>Atlanta (GA)</td>\n",
       "    </tr>\n",
       "  </tbody>\n",
       "</table>\n",
       "</div>"
      ],
      "text/plain": [
       "  Order ID               Product  Quantity Ordered  Price Each  \\\n",
       "0   295665    Macbook Pro Laptop                 1     1700.00   \n",
       "1   295666    LG Washing Machine                 1      600.00   \n",
       "2   295667  USB-C Charging Cable                 1       11.95   \n",
       "3   295668      27in FHD Monitor                 1      149.99   \n",
       "4   295669  USB-C Charging Cable                 1       11.95   \n",
       "\n",
       "       Order Date                        Purchase Address  Month    Sales  \\\n",
       "0  12/30/19 00:01  136 Church St, New York City, NY 10001     12  1700.00   \n",
       "1  12/29/19 07:03     562 2nd St, New York City, NY 10001     12   600.00   \n",
       "2  12/12/19 18:21    277 Main St, New York City, NY 10001     12    11.95   \n",
       "3  12/22/19 15:13     410 6th St, San Francisco, CA 94016     12   149.99   \n",
       "4  12/18/19 12:38           43 Hill St, Atlanta, GA 30301     12    11.95   \n",
       "\n",
       "                  City  \n",
       "0   New York City (NY)  \n",
       "1   New York City (NY)  \n",
       "2   New York City (NY)  \n",
       "3   San Francisco (CA)  \n",
       "4         Atlanta (GA)  "
      ]
     },
     "execution_count": 195,
     "metadata": {},
     "output_type": "execute_result"
    }
   ],
   "source": [
    "# use the .apply method to create a new column using the cities, which is the first index in the purchase address column\n",
    "# for each of the cell contents, x, we want to split it by commas, and take the first index\n",
    "\n",
    "def get_city(address):\n",
    "    return address.split(',')[1]\n",
    "\n",
    "# to fix the issue of same city names in different states, we can get the state abbreviations \n",
    "# to remove the zip codes, we can split by white space, removing them before and after the state abbreviation\n",
    "# then we take the first index after splitting, which would be the state abbreviation\n",
    "\n",
    "def get_state(address):\n",
    "    return address.split(',')[2].split(' ')[1]\n",
    "    \n",
    "all_data['City'] = all_data['Purchase Address'].apply(lambda x: f\"{get_city(x)} ({get_state(x)})\")\n",
    "all_data.head()"
   ]
  },
  {
   "cell_type": "markdown",
   "metadata": {
    "jp-MarkdownHeadingCollapsed": true
   },
   "source": [
    "## Question 1: What was the best month for sales? How much was earned that month?"
   ]
  },
  {
   "cell_type": "markdown",
   "metadata": {},
   "source": [
    "##### The best month for sales was December, with $4,613,443 in sales. "
   ]
  },
  {
   "cell_type": "code",
   "execution_count": 196,
   "metadata": {},
   "outputs": [],
   "source": [
    "results = all_data.groupby('Month').sum()"
   ]
  },
  {
   "cell_type": "code",
   "execution_count": 197,
   "metadata": {},
   "outputs": [
    {
     "data": {
      "image/png": "[encoded data removed]",
      "text/plain": [
       "<Figure size 640x480 with 1 Axes>"
      ]
     },
     "metadata": {},
     "output_type": "display_data"
    }
   ],
   "source": [
    "months = range(1, 13) # range of all months\n",
    "\n",
    "plt.bar(months, results['Sales']) # initialize bar graph\n",
    "plt.xticks(months) # show every month label on x-axis\n",
    "plt.ylabel('Sales in USD') # label x-axis\n",
    "plt.xlabel('Month Number') # label y-axis\n",
    "\n",
    "plt.show() # output graph"
   ]
  },
  {
   "cell_type": "markdown",
   "metadata": {
    "jp-MarkdownHeadingCollapsed": true
   },
   "source": [
    "## Question 2: What U.S. city had the highest number of sales?"
   ]
  },
  {
   "cell_type": "markdown",
   "metadata": {},
   "source": [
    "#### San Francisco (CA) is the U.S. city with the highest number of sales"
   ]
  },
  {
   "cell_type": "code",
   "execution_count": 198,
   "metadata": {},
   "outputs": [
    {
     "data": {
      "text/html": [
       "<div>\n",
       "<style scoped>\n",
       "    .dataframe tbody tr th:only-of-type {\n",
       "        vertical-align: middle;\n",
       "    }\n",
       "\n",
       "    .dataframe tbody tr th {\n",
       "        vertical-align: top;\n",
       "    }\n",
       "\n",
       "    .dataframe thead th {\n",
       "        text-align: right;\n",
       "    }\n",
       "</style>\n",
       "<table border=\"1\" class=\"dataframe\">\n",
       "  <thead>\n",
       "    <tr style=\"text-align: right;\">\n",
       "      <th></th>\n",
       "      <th>Order ID</th>\n",
       "      <th>Product</th>\n",
       "      <th>Quantity Ordered</th>\n",
       "      <th>Price Each</th>\n",
       "      <th>Order Date</th>\n",
       "      <th>Purchase Address</th>\n",
       "      <th>Month</th>\n",
       "      <th>Sales</th>\n",
       "    </tr>\n",
       "    <tr>\n",
       "      <th>City</th>\n",
       "      <th></th>\n",
       "      <th></th>\n",
       "      <th></th>\n",
       "      <th></th>\n",
       "      <th></th>\n",
       "      <th></th>\n",
       "      <th></th>\n",
       "      <th></th>\n",
       "    </tr>\n",
       "  </thead>\n",
       "  <tbody>\n",
       "    <tr>\n",
       "      <th>Atlanta (GA)</th>\n",
       "      <td>2956692956932957102957372957372957562957602957...</td>\n",
       "      <td>USB-C Charging CableWired HeadphonesAAA Batter...</td>\n",
       "      <td>16602</td>\n",
       "      <td>2779908.20</td>\n",
       "      <td>12/18/19 12:3812/16/19 16:4012/26/19 19:0912/1...</td>\n",
       "      <td>43 Hill St, Atlanta, GA 30301856 12th St, Atla...</td>\n",
       "      <td>104794</td>\n",
       "      <td>2795498.58</td>\n",
       "    </tr>\n",
       "    <tr>\n",
       "      <th>Austin (TX)</th>\n",
       "      <td>2956802957022957032957032957542957892957982958...</td>\n",
       "      <td>Lightning Charging CableWired HeadphonesAA Bat...</td>\n",
       "      <td>11153</td>\n",
       "      <td>1809873.61</td>\n",
       "      <td>12/01/19 14:3012/21/19 18:5012/17/19 12:2712/1...</td>\n",
       "      <td>338 Main St, Austin, TX 73301628 River St, Aus...</td>\n",
       "      <td>69829</td>\n",
       "      <td>1819581.75</td>\n",
       "    </tr>\n",
       "    <tr>\n",
       "      <th>Boston (MA)</th>\n",
       "      <td>2956772956812956812956812956812956872956952957...</td>\n",
       "      <td>AA Batteries (4-pack)Google PhoneUSB-C Chargin...</td>\n",
       "      <td>22528</td>\n",
       "      <td>3637409.77</td>\n",
       "      <td>12/20/19 19:1912/25/19 12:3712/25/19 12:3712/2...</td>\n",
       "      <td>866 Pine St, Boston, MA 0221579 Elm St, Boston...</td>\n",
       "      <td>141112</td>\n",
       "      <td>3661642.01</td>\n",
       "    </tr>\n",
       "    <tr>\n",
       "      <th>Dallas (TX)</th>\n",
       "      <td>2956722956732956742956782956792956942957242957...</td>\n",
       "      <td>USB-C Charging CableBose SoundSport Headphones...</td>\n",
       "      <td>16730</td>\n",
       "      <td>2752627.82</td>\n",
       "      <td>12/13/19 09:2912/15/19 23:2612/28/19 11:5112/0...</td>\n",
       "      <td>813 Hickory St, Dallas, TX 75001718 Wilson St,...</td>\n",
       "      <td>104620</td>\n",
       "      <td>2767975.40</td>\n",
       "    </tr>\n",
       "    <tr>\n",
       "      <th>Los Angeles (CA)</th>\n",
       "      <td>2956762956882956912956922957062957142957162957...</td>\n",
       "      <td>ThinkPad LaptopApple Airpods HeadphonesBose So...</td>\n",
       "      <td>33289</td>\n",
       "      <td>5421435.23</td>\n",
       "      <td>12/28/19 17:1912/08/19 11:2112/22/19 18:3412/1...</td>\n",
       "      <td>410 Lincoln St, Los Angeles, CA 90001546 Park ...</td>\n",
       "      <td>208325</td>\n",
       "      <td>5452570.80</td>\n",
       "    </tr>\n",
       "    <tr>\n",
       "      <th>New York City (NY)</th>\n",
       "      <td>2956652956662956672956702956982956982957002957...</td>\n",
       "      <td>Macbook Pro LaptopLG Washing MachineUSB-C Char...</td>\n",
       "      <td>27932</td>\n",
       "      <td>4635370.83</td>\n",
       "      <td>12/30/19 00:0112/29/19 07:0312/12/19 18:2112/3...</td>\n",
       "      <td>136 Church St, New York City, NY 10001562 2nd ...</td>\n",
       "      <td>175741</td>\n",
       "      <td>4664317.43</td>\n",
       "    </tr>\n",
       "    <tr>\n",
       "      <th>Portland (ME)</th>\n",
       "      <td>2956862957972958622960182961272961582962062962...</td>\n",
       "      <td>USB-C Charging CableWired HeadphonesAAA Batter...</td>\n",
       "      <td>2750</td>\n",
       "      <td>447189.25</td>\n",
       "      <td>12/17/19 16:1012/16/19 09:2312/03/19 14:2212/2...</td>\n",
       "      <td>573 Maple St, Portland, ME 04101163 Washington...</td>\n",
       "      <td>17144</td>\n",
       "      <td>449758.27</td>\n",
       "    </tr>\n",
       "    <tr>\n",
       "      <th>Portland (OR)</th>\n",
       "      <td>2956712956822957342957572958192958572958922958...</td>\n",
       "      <td>USB-C Charging CableUSB-C Charging CableAAA Ba...</td>\n",
       "      <td>11303</td>\n",
       "      <td>1860558.22</td>\n",
       "      <td>12/16/19 15:1012/23/19 19:2512/25/19 12:3812/0...</td>\n",
       "      <td>928 12th St, Portland, OR 97035780 Elm St, Por...</td>\n",
       "      <td>70621</td>\n",
       "      <td>1870732.34</td>\n",
       "    </tr>\n",
       "    <tr>\n",
       "      <th>San Francisco (CA)</th>\n",
       "      <td>2956682956752956832956842956852956892956962956...</td>\n",
       "      <td>27in FHD MonitorUSB-C Charging CableWired Head...</td>\n",
       "      <td>50239</td>\n",
       "      <td>8211461.74</td>\n",
       "      <td>12/22/19 15:1312/13/19 13:5212/23/19 22:4612/0...</td>\n",
       "      <td>410 6th St, San Francisco, CA 94016594 1st St,...</td>\n",
       "      <td>315520</td>\n",
       "      <td>8262203.91</td>\n",
       "    </tr>\n",
       "    <tr>\n",
       "      <th>Seattle (WA)</th>\n",
       "      <td>2956902956992957152957212957652957662957842957...</td>\n",
       "      <td>Apple Airpods HeadphonesAA Batteries (4-pack)U...</td>\n",
       "      <td>16553</td>\n",
       "      <td>2733296.01</td>\n",
       "      <td>12/04/19 00:4412/17/19 18:3212/17/19 18:2012/0...</td>\n",
       "      <td>174 Cedar St, Seattle, WA 98101162 Maple St, S...</td>\n",
       "      <td>104941</td>\n",
       "      <td>2747755.48</td>\n",
       "    </tr>\n",
       "  </tbody>\n",
       "</table>\n",
       "</div>"
      ],
      "text/plain": [
       "                                                             Order ID  \\\n",
       "City                                                                    \n",
       "Atlanta (GA)        2956692956932957102957372957372957562957602957...   \n",
       "Austin (TX)         2956802957022957032957032957542957892957982958...   \n",
       "Boston (MA)         2956772956812956812956812956812956872956952957...   \n",
       "Dallas (TX)         2956722956732956742956782956792956942957242957...   \n",
       "Los Angeles (CA)    2956762956882956912956922957062957142957162957...   \n",
       "New York City (NY)  2956652956662956672956702956982956982957002957...   \n",
       "Portland (ME)       2956862957972958622960182961272961582962062962...   \n",
       "Portland (OR)       2956712956822957342957572958192958572958922958...   \n",
       "San Francisco (CA)  2956682956752956832956842956852956892956962956...   \n",
       "Seattle (WA)        2956902956992957152957212957652957662957842957...   \n",
       "\n",
       "                                                              Product  \\\n",
       "City                                                                    \n",
       "Atlanta (GA)        USB-C Charging CableWired HeadphonesAAA Batter...   \n",
       "Austin (TX)         Lightning Charging CableWired HeadphonesAA Bat...   \n",
       "Boston (MA)         AA Batteries (4-pack)Google PhoneUSB-C Chargin...   \n",
       "Dallas (TX)         USB-C Charging CableBose SoundSport Headphones...   \n",
       "Los Angeles (CA)    ThinkPad LaptopApple Airpods HeadphonesBose So...   \n",
       "New York City (NY)  Macbook Pro LaptopLG Washing MachineUSB-C Char...   \n",
       "Portland (ME)       USB-C Charging CableWired HeadphonesAAA Batter...   \n",
       "Portland (OR)       USB-C Charging CableUSB-C Charging CableAAA Ba...   \n",
       "San Francisco (CA)  27in FHD MonitorUSB-C Charging CableWired Head...   \n",
       "Seattle (WA)        Apple Airpods HeadphonesAA Batteries (4-pack)U...   \n",
       "\n",
       "                    Quantity Ordered  Price Each  \\\n",
       "City                                               \n",
       "Atlanta (GA)                   16602  2779908.20   \n",
       "Austin (TX)                    11153  1809873.61   \n",
       "Boston (MA)                    22528  3637409.77   \n",
       "Dallas (TX)                    16730  2752627.82   \n",
       "Los Angeles (CA)               33289  5421435.23   \n",
       "New York City (NY)             27932  4635370.83   \n",
       "Portland (ME)                   2750   447189.25   \n",
       "Portland (OR)                  11303  1860558.22   \n",
       "San Francisco (CA)             50239  8211461.74   \n",
       "Seattle (WA)                   16553  2733296.01   \n",
       "\n",
       "                                                           Order Date  \\\n",
       "City                                                                    \n",
       "Atlanta (GA)        12/18/19 12:3812/16/19 16:4012/26/19 19:0912/1...   \n",
       "Austin (TX)         12/01/19 14:3012/21/19 18:5012/17/19 12:2712/1...   \n",
       "Boston (MA)         12/20/19 19:1912/25/19 12:3712/25/19 12:3712/2...   \n",
       "Dallas (TX)         12/13/19 09:2912/15/19 23:2612/28/19 11:5112/0...   \n",
       "Los Angeles (CA)    12/28/19 17:1912/08/19 11:2112/22/19 18:3412/1...   \n",
       "New York City (NY)  12/30/19 00:0112/29/19 07:0312/12/19 18:2112/3...   \n",
       "Portland (ME)       12/17/19 16:1012/16/19 09:2312/03/19 14:2212/2...   \n",
       "Portland (OR)       12/16/19 15:1012/23/19 19:2512/25/19 12:3812/0...   \n",
       "San Francisco (CA)  12/22/19 15:1312/13/19 13:5212/23/19 22:4612/0...   \n",
       "Seattle (WA)        12/04/19 00:4412/17/19 18:3212/17/19 18:2012/0...   \n",
       "\n",
       "                                                     Purchase Address   Month  \\\n",
       "City                                                                            \n",
       "Atlanta (GA)        43 Hill St, Atlanta, GA 30301856 12th St, Atla...  104794   \n",
       "Austin (TX)         338 Main St, Austin, TX 73301628 River St, Aus...   69829   \n",
       "Boston (MA)         866 Pine St, Boston, MA 0221579 Elm St, Boston...  141112   \n",
       "Dallas (TX)         813 Hickory St, Dallas, TX 75001718 Wilson St,...  104620   \n",
       "Los Angeles (CA)    410 Lincoln St, Los Angeles, CA 90001546 Park ...  208325   \n",
       "New York City (NY)  136 Church St, New York City, NY 10001562 2nd ...  175741   \n",
       "Portland (ME)       573 Maple St, Portland, ME 04101163 Washington...   17144   \n",
       "Portland (OR)       928 12th St, Portland, OR 97035780 Elm St, Por...   70621   \n",
       "San Francisco (CA)  410 6th St, San Francisco, CA 94016594 1st St,...  315520   \n",
       "Seattle (WA)        174 Cedar St, Seattle, WA 98101162 Maple St, S...  104941   \n",
       "\n",
       "                         Sales  \n",
       "City                            \n",
       "Atlanta (GA)        2795498.58  \n",
       "Austin (TX)         1819581.75  \n",
       "Boston (MA)         3661642.01  \n",
       "Dallas (TX)         2767975.40  \n",
       "Los Angeles (CA)    5452570.80  \n",
       "New York City (NY)  4664317.43  \n",
       "Portland (ME)        449758.27  \n",
       "Portland (OR)       1870732.34  \n",
       "San Francisco (CA)  8262203.91  \n",
       "Seattle (WA)        2747755.48  "
      ]
     },
     "execution_count": 198,
     "metadata": {},
     "output_type": "execute_result"
    }
   ],
   "source": [
    "results = all_data.groupby('City').sum()\n",
    "results"
   ]
  },
  {
   "cell_type": "code",
   "execution_count": 199,
   "metadata": {},
   "outputs": [
    {
     "data": {
      "image/png": "[encoded data removed]",
      "text/plain": [
       "<Figure size 640x480 with 1 Axes>"
      ]
     },
     "metadata": {},
     "output_type": "display_data"
    }
   ],
   "source": [
    "cities = [city for city, df in all_data.groupby('City')]\n",
    "\n",
    "plt.bar(cities, results['Sales']) # initialize bar graph\n",
    "plt.xticks(cities, rotation = 'vertical') # show every month label on x-axis\n",
    "plt.ylabel('Sales in USD') # label x-axis\n",
    "plt.xlabel('US City Name') # label y-axis\n",
    "\n",
    "plt.show() # output graph"
   ]
  },
  {
   "cell_type": "markdown",
   "metadata": {
    "jp-MarkdownHeadingCollapsed": true
   },
   "source": [
    "## Question 3: What time should we display advertisements to maximize likelihood of customer's buying product? "
   ]
  },
  {
   "cell_type": "markdown",
   "metadata": {},
   "source": [
    "#### The 2 highest peaks on the line graph is 12 PM (12:00) and 7 PM (19:OO) on the x-axis. \n",
    "#### We can assume the number of orders is around 12,500 at Noon, and around 13,000 at 7 PM.\n",
    "#### We should display advertisements right before this times to maximize likelihood of customer's buying products. "
   ]
  },
  {
   "cell_type": "code",
   "execution_count": 200,
   "metadata": {},
   "outputs": [
    {
     "name": "stderr",
     "output_type": "stream",
     "text": [
      "/var/folders/bt/zj9400d958b_xz9ly0nx647h0000gn/T/ipykernel_90103/1535429391.py:3: UserWarning: Could not infer format, so each element will be parsed individually, falling back to `dateutil`. To ensure parsing is consistent and as-expected, please specify a format.\n",
      "  all_data['Order Date'] = pd.to_datetime(all_data['Order Date'])\n"
     ]
    }
   ],
   "source": [
    "# convert order date into DateTime object\n",
    "\n",
    "all_data['Order Date'] = pd.to_datetime(all_data['Order Date'])"
   ]
  },
  {
   "cell_type": "code",
   "execution_count": 201,
   "metadata": {},
   "outputs": [
    {
     "data": {
      "text/html": [
       "<div>\n",
       "<style scoped>\n",
       "    .dataframe tbody tr th:only-of-type {\n",
       "        vertical-align: middle;\n",
       "    }\n",
       "\n",
       "    .dataframe tbody tr th {\n",
       "        vertical-align: top;\n",
       "    }\n",
       "\n",
       "    .dataframe thead th {\n",
       "        text-align: right;\n",
       "    }\n",
       "</style>\n",
       "<table border=\"1\" class=\"dataframe\">\n",
       "  <thead>\n",
       "    <tr style=\"text-align: right;\">\n",
       "      <th></th>\n",
       "      <th>Order ID</th>\n",
       "      <th>Product</th>\n",
       "      <th>Quantity Ordered</th>\n",
       "      <th>Price Each</th>\n",
       "      <th>Order Date</th>\n",
       "      <th>Purchase Address</th>\n",
       "      <th>Month</th>\n",
       "      <th>Sales</th>\n",
       "      <th>City</th>\n",
       "      <th>Hour</th>\n",
       "      <th>Minute</th>\n",
       "    </tr>\n",
       "  </thead>\n",
       "  <tbody>\n",
       "    <tr>\n",
       "      <th>0</th>\n",
       "      <td>295665</td>\n",
       "      <td>Macbook Pro Laptop</td>\n",
       "      <td>1</td>\n",
       "      <td>1700.00</td>\n",
       "      <td>2019-12-30 00:01:00</td>\n",
       "      <td>136 Church St, New York City, NY 10001</td>\n",
       "      <td>12</td>\n",
       "      <td>1700.00</td>\n",
       "      <td>New York City (NY)</td>\n",
       "      <td>0</td>\n",
       "      <td>1</td>\n",
       "    </tr>\n",
       "    <tr>\n",
       "      <th>1</th>\n",
       "      <td>295666</td>\n",
       "      <td>LG Washing Machine</td>\n",
       "      <td>1</td>\n",
       "      <td>600.00</td>\n",
       "      <td>2019-12-29 07:03:00</td>\n",
       "      <td>562 2nd St, New York City, NY 10001</td>\n",
       "      <td>12</td>\n",
       "      <td>600.00</td>\n",
       "      <td>New York City (NY)</td>\n",
       "      <td>7</td>\n",
       "      <td>3</td>\n",
       "    </tr>\n",
       "    <tr>\n",
       "      <th>2</th>\n",
       "      <td>295667</td>\n",
       "      <td>USB-C Charging Cable</td>\n",
       "      <td>1</td>\n",
       "      <td>11.95</td>\n",
       "      <td>2019-12-12 18:21:00</td>\n",
       "      <td>277 Main St, New York City, NY 10001</td>\n",
       "      <td>12</td>\n",
       "      <td>11.95</td>\n",
       "      <td>New York City (NY)</td>\n",
       "      <td>18</td>\n",
       "      <td>21</td>\n",
       "    </tr>\n",
       "    <tr>\n",
       "      <th>3</th>\n",
       "      <td>295668</td>\n",
       "      <td>27in FHD Monitor</td>\n",
       "      <td>1</td>\n",
       "      <td>149.99</td>\n",
       "      <td>2019-12-22 15:13:00</td>\n",
       "      <td>410 6th St, San Francisco, CA 94016</td>\n",
       "      <td>12</td>\n",
       "      <td>149.99</td>\n",
       "      <td>San Francisco (CA)</td>\n",
       "      <td>15</td>\n",
       "      <td>13</td>\n",
       "    </tr>\n",
       "    <tr>\n",
       "      <th>4</th>\n",
       "      <td>295669</td>\n",
       "      <td>USB-C Charging Cable</td>\n",
       "      <td>1</td>\n",
       "      <td>11.95</td>\n",
       "      <td>2019-12-18 12:38:00</td>\n",
       "      <td>43 Hill St, Atlanta, GA 30301</td>\n",
       "      <td>12</td>\n",
       "      <td>11.95</td>\n",
       "      <td>Atlanta (GA)</td>\n",
       "      <td>12</td>\n",
       "      <td>38</td>\n",
       "    </tr>\n",
       "    <tr>\n",
       "      <th>...</th>\n",
       "      <td>...</td>\n",
       "      <td>...</td>\n",
       "      <td>...</td>\n",
       "      <td>...</td>\n",
       "      <td>...</td>\n",
       "      <td>...</td>\n",
       "      <td>...</td>\n",
       "      <td>...</td>\n",
       "      <td>...</td>\n",
       "      <td>...</td>\n",
       "      <td>...</td>\n",
       "    </tr>\n",
       "    <tr>\n",
       "      <th>186845</th>\n",
       "      <td>222905</td>\n",
       "      <td>AAA Batteries (4-pack)</td>\n",
       "      <td>1</td>\n",
       "      <td>2.99</td>\n",
       "      <td>2019-06-07 19:02:00</td>\n",
       "      <td>795 Pine St, Boston, MA 02215</td>\n",
       "      <td>6</td>\n",
       "      <td>2.99</td>\n",
       "      <td>Boston (MA)</td>\n",
       "      <td>19</td>\n",
       "      <td>2</td>\n",
       "    </tr>\n",
       "    <tr>\n",
       "      <th>186846</th>\n",
       "      <td>222906</td>\n",
       "      <td>27in FHD Monitor</td>\n",
       "      <td>1</td>\n",
       "      <td>149.99</td>\n",
       "      <td>2019-06-01 19:29:00</td>\n",
       "      <td>495 North St, New York City, NY 10001</td>\n",
       "      <td>6</td>\n",
       "      <td>149.99</td>\n",
       "      <td>New York City (NY)</td>\n",
       "      <td>19</td>\n",
       "      <td>29</td>\n",
       "    </tr>\n",
       "    <tr>\n",
       "      <th>186847</th>\n",
       "      <td>222907</td>\n",
       "      <td>USB-C Charging Cable</td>\n",
       "      <td>1</td>\n",
       "      <td>11.95</td>\n",
       "      <td>2019-06-22 18:57:00</td>\n",
       "      <td>319 Ridge St, San Francisco, CA 94016</td>\n",
       "      <td>6</td>\n",
       "      <td>11.95</td>\n",
       "      <td>San Francisco (CA)</td>\n",
       "      <td>18</td>\n",
       "      <td>57</td>\n",
       "    </tr>\n",
       "    <tr>\n",
       "      <th>186848</th>\n",
       "      <td>222908</td>\n",
       "      <td>USB-C Charging Cable</td>\n",
       "      <td>1</td>\n",
       "      <td>11.95</td>\n",
       "      <td>2019-06-26 18:35:00</td>\n",
       "      <td>916 Main St, San Francisco, CA 94016</td>\n",
       "      <td>6</td>\n",
       "      <td>11.95</td>\n",
       "      <td>San Francisco (CA)</td>\n",
       "      <td>18</td>\n",
       "      <td>35</td>\n",
       "    </tr>\n",
       "    <tr>\n",
       "      <th>186849</th>\n",
       "      <td>222909</td>\n",
       "      <td>AAA Batteries (4-pack)</td>\n",
       "      <td>1</td>\n",
       "      <td>2.99</td>\n",
       "      <td>2019-06-25 14:33:00</td>\n",
       "      <td>209 11th St, Atlanta, GA 30301</td>\n",
       "      <td>6</td>\n",
       "      <td>2.99</td>\n",
       "      <td>Atlanta (GA)</td>\n",
       "      <td>14</td>\n",
       "      <td>33</td>\n",
       "    </tr>\n",
       "  </tbody>\n",
       "</table>\n",
       "<p>185950 rows × 11 columns</p>\n",
       "</div>"
      ],
      "text/plain": [
       "       Order ID                 Product  Quantity Ordered  Price Each  \\\n",
       "0        295665      Macbook Pro Laptop                 1     1700.00   \n",
       "1        295666      LG Washing Machine                 1      600.00   \n",
       "2        295667    USB-C Charging Cable                 1       11.95   \n",
       "3        295668        27in FHD Monitor                 1      149.99   \n",
       "4        295669    USB-C Charging Cable                 1       11.95   \n",
       "...         ...                     ...               ...         ...   \n",
       "186845   222905  AAA Batteries (4-pack)                 1        2.99   \n",
       "186846   222906        27in FHD Monitor                 1      149.99   \n",
       "186847   222907    USB-C Charging Cable                 1       11.95   \n",
       "186848   222908    USB-C Charging Cable                 1       11.95   \n",
       "186849   222909  AAA Batteries (4-pack)                 1        2.99   \n",
       "\n",
       "                Order Date                        Purchase Address  Month  \\\n",
       "0      2019-12-30 00:01:00  136 Church St, New York City, NY 10001     12   \n",
       "1      2019-12-29 07:03:00     562 2nd St, New York City, NY 10001     12   \n",
       "2      2019-12-12 18:21:00    277 Main St, New York City, NY 10001     12   \n",
       "3      2019-12-22 15:13:00     410 6th St, San Francisco, CA 94016     12   \n",
       "4      2019-12-18 12:38:00           43 Hill St, Atlanta, GA 30301     12   \n",
       "...                    ...                                     ...    ...   \n",
       "186845 2019-06-07 19:02:00           795 Pine St, Boston, MA 02215      6   \n",
       "186846 2019-06-01 19:29:00   495 North St, New York City, NY 10001      6   \n",
       "186847 2019-06-22 18:57:00   319 Ridge St, San Francisco, CA 94016      6   \n",
       "186848 2019-06-26 18:35:00    916 Main St, San Francisco, CA 94016      6   \n",
       "186849 2019-06-25 14:33:00          209 11th St, Atlanta, GA 30301      6   \n",
       "\n",
       "          Sales                 City  Hour  Minute  \n",
       "0       1700.00   New York City (NY)     0       1  \n",
       "1        600.00   New York City (NY)     7       3  \n",
       "2         11.95   New York City (NY)    18      21  \n",
       "3        149.99   San Francisco (CA)    15      13  \n",
       "4         11.95         Atlanta (GA)    12      38  \n",
       "...         ...                  ...   ...     ...  \n",
       "186845     2.99          Boston (MA)    19       2  \n",
       "186846   149.99   New York City (NY)    19      29  \n",
       "186847    11.95   San Francisco (CA)    18      57  \n",
       "186848    11.95   San Francisco (CA)    18      35  \n",
       "186849     2.99         Atlanta (GA)    14      33  \n",
       "\n",
       "[185950 rows x 11 columns]"
      ]
     },
     "execution_count": 201,
     "metadata": {},
     "output_type": "execute_result"
    }
   ],
   "source": [
    "all_data['Hour'] = all_data['Order Date'].dt.hour # create new column of exact hour of order\n",
    "all_data['Minute'] = all_data['Order Date'].dt.minute # create new column of exact minute of order\n",
    "all_data"
   ]
  },
  {
   "cell_type": "code",
   "execution_count": 202,
   "metadata": {},
   "outputs": [
    {
     "data": {
      "image/png": "[encoded data removed]",
      "text/plain": [
       "<Figure size 640x480 with 1 Axes>"
      ]
     },
     "metadata": {},
     "output_type": "display_data"
    }
   ],
   "source": [
    "hours = [hour for hour, df in all_data.groupby('Hour')]\n",
    "\n",
    "plt.plot(hours, all_data.groupby(['Hour']).count()) # initialize line graph (number of orders during that specific hour)\n",
    "plt.xticks(hours)\n",
    "plt.xlabel('Hour')\n",
    "plt.ylabel('Number of Orders')\n",
    "plt.grid() # make graph easier to read\n",
    "plt.show() # output graph"
   ]
  },
  {
   "cell_type": "markdown",
   "metadata": {
    "jp-MarkdownHeadingCollapsed": true
   },
   "source": [
    "## Question 4: What products are most often sold together?"
   ]
  },
  {
   "cell_type": "markdown",
   "metadata": {},
   "source": [
    "#### iPhones and Lightning Charging Cables are the 2 products most often sold together. "
   ]
  },
  {
   "cell_type": "code",
   "execution_count": 203,
   "metadata": {},
   "outputs": [
    {
     "name": "stderr",
     "output_type": "stream",
     "text": [
      "/var/folders/bt/zj9400d958b_xz9ly0nx647h0000gn/T/ipykernel_90103/826508255.py:7: SettingWithCopyWarning: \n",
      "A value is trying to be set on a copy of a slice from a DataFrame.\n",
      "Try using .loc[row_indexer,col_indexer] = value instead\n",
      "\n",
      "See the caveats in the documentation: https://pandas.pydata.org/pandas-docs/stable/user_guide/indexing.html#returning-a-view-versus-a-copy\n",
      "  df['Grouped'] = df.groupby('Order ID')['Product'].transform(lambda x: ', '.join(x))\n"
     ]
    },
    {
     "data": {
      "text/html": [
       "<div>\n",
       "<style scoped>\n",
       "    .dataframe tbody tr th:only-of-type {\n",
       "        vertical-align: middle;\n",
       "    }\n",
       "\n",
       "    .dataframe tbody tr th {\n",
       "        vertical-align: top;\n",
       "    }\n",
       "\n",
       "    .dataframe thead th {\n",
       "        text-align: right;\n",
       "    }\n",
       "</style>\n",
       "<table border=\"1\" class=\"dataframe\">\n",
       "  <thead>\n",
       "    <tr style=\"text-align: right;\">\n",
       "      <th></th>\n",
       "      <th>Order ID</th>\n",
       "      <th>Grouped</th>\n",
       "    </tr>\n",
       "  </thead>\n",
       "  <tbody>\n",
       "    <tr>\n",
       "      <th>16</th>\n",
       "      <td>295681</td>\n",
       "      <td>Google Phone, USB-C Charging Cable, Bose Sound...</td>\n",
       "    </tr>\n",
       "    <tr>\n",
       "      <th>36</th>\n",
       "      <td>295698</td>\n",
       "      <td>Vareebadd Phone, USB-C Charging Cable</td>\n",
       "    </tr>\n",
       "    <tr>\n",
       "      <th>42</th>\n",
       "      <td>295703</td>\n",
       "      <td>AA Batteries (4-pack), Bose SoundSport Headphones</td>\n",
       "    </tr>\n",
       "    <tr>\n",
       "      <th>66</th>\n",
       "      <td>295726</td>\n",
       "      <td>iPhone, Lightning Charging Cable</td>\n",
       "    </tr>\n",
       "    <tr>\n",
       "      <th>76</th>\n",
       "      <td>295735</td>\n",
       "      <td>iPhone, Apple Airpods Headphones, Wired Headph...</td>\n",
       "    </tr>\n",
       "  </tbody>\n",
       "</table>\n",
       "</div>"
      ],
      "text/plain": [
       "   Order ID                                            Grouped\n",
       "16   295681  Google Phone, USB-C Charging Cable, Bose Sound...\n",
       "36   295698              Vareebadd Phone, USB-C Charging Cable\n",
       "42   295703  AA Batteries (4-pack), Bose SoundSport Headphones\n",
       "66   295726                   iPhone, Lightning Charging Cable\n",
       "76   295735  iPhone, Apple Airpods Headphones, Wired Headph..."
      ]
     },
     "execution_count": 203,
     "metadata": {},
     "output_type": "execute_result"
    }
   ],
   "source": [
    "# we need to see which products share the same order id\n",
    "\n",
    "# check all values in ORDER ID column and see which ones are duplicated\n",
    "df = all_data[all_data['Order ID'].duplicated(keep = False)] # keep = false to keep all dupes\n",
    "\n",
    "# create new column grouping all products with the same id \n",
    "df['Grouped'] = df.groupby('Order ID')['Product'].transform(lambda x: ', '.join(x))\n",
    "\n",
    "# drop the individual orders in the group and only keep the grouped orders\n",
    "df = df[['Order ID', 'Grouped']].drop_duplicates()\n",
    "df.head()"
   ]
  },
  {
   "cell_type": "code",
   "execution_count": 204,
   "metadata": {},
   "outputs": [
    {
     "name": "stdout",
     "output_type": "stream",
     "text": [
      "('iPhone', ' Lightning Charging Cable') 1005\n",
      "('Google Phone', ' USB-C Charging Cable') 987\n",
      "('iPhone', ' Wired Headphones') 447\n",
      "('Google Phone', ' Wired Headphones') 414\n",
      "('Vareebadd Phone', ' USB-C Charging Cable') 361\n",
      "('iPhone', ' Apple Airpods Headphones') 360\n",
      "('Google Phone', ' Bose SoundSport Headphones') 220\n",
      "('Vareebadd Phone', ' Wired Headphones') 143\n",
      "(' USB-C Charging Cable', ' Wired Headphones') 120\n",
      "('Vareebadd Phone', ' Bose SoundSport Headphones') 80\n"
     ]
    }
   ],
   "source": [
    "count = Counter()\n",
    "\n",
    "# find all combinations of grouped pairs of products\n",
    "for row in df['Grouped']:\n",
    "    row_list = row.split(',')\n",
    "    count.update(Counter(combinations(row_list, 2)))\n",
    "\n",
    "# find the top ten most commonly grouped pairs of products\n",
    "for key, value in count.most_common(10):\n",
    "    print(key, value)"
   ]
  },
  {
   "cell_type": "markdown",
   "metadata": {
    "jp-MarkdownHeadingCollapsed": true
   },
   "source": [
    "## Question 5: Which product sold the most? Why do you think it did? "
   ]
  },
  {
   "cell_type": "markdown",
   "metadata": {},
   "source": [
    "#### The AAA Batteries were sold the most. Based on the graphs, this is because it was the cheapest. \n",
    "#### There are some outliers such as the Macbook Pros being very expensive, yet in demand. \n",
    "#### Generally speaking, the majority of the cheapest items are the most sold. "
   ]
  },
  {
   "cell_type": "code",
   "execution_count": 218,
   "metadata": {},
   "outputs": [
    {
     "data": {
      "image/png": "[encoded data removed]",
      "text/plain": [
       "<Figure size 640x480 with 1 Axes>"
      ]
     },
     "metadata": {},
     "output_type": "display_data"
    }
   ],
   "source": [
    "# sum up the quantity ordered for each product, grouping by the product\n",
    "product_group = all_data.groupby('Product')['Quantity Ordered']\n",
    "quantity_ordered = product_group.sum()\n",
    "\n",
    "products = [product for product, df in product_group]\n",
    "\n",
    "plt.bar(products, quantity_ordered)\n",
    "plt.xticks(products, rotation = 'vertical')\n",
    "plt.xlabel('Products')\n",
    "plt.ylabel('Quantity Ordered')\n",
    "plt.show()"
   ]
  },
  {
   "cell_type": "code",
   "execution_count": 227,
   "metadata": {},
   "outputs": [
    {
     "name": "stderr",
     "output_type": "stream",
     "text": [
      "/var/folders/bt/zj9400d958b_xz9ly0nx647h0000gn/T/ipykernel_90103/2432383320.py:14: UserWarning: set_ticklabels() should only be used with a fixed number of ticks, i.e. after set_ticks() or using a FixedLocator.\n",
      "  ax1.set_xticklabels(products, rotation = 'vertical', size = 8)\n"
     ]
    },
    {
     "data": {
      "image/png": "[encoded data removed]",
      "text/plain": [
       "<Figure size 640x480 with 2 Axes>"
      ]
     },
     "metadata": {},
     "output_type": "display_data"
    }
   ],
   "source": [
    "# to find out why AAA batteries were sold the most, let's check the prices and overlap this with our previous bar graph\n",
    "\n",
    "prices = all_data.groupby('Product')['Price Each'].mean()\n",
    "\n",
    "fig, ax1 = plt.subplots()\n",
    "\n",
    "ax2 = ax1.twinx()\n",
    "ax1.bar(products, quantity_ordered, color = 'g')\n",
    "ax2.plot(products, prices, 'b-')\n",
    "\n",
    "ax1.set_xlabel('Product Name')\n",
    "ax1.set_ylabel('Quantity Ordered', color = 'g')\n",
    "ax2.set_ylabel('Price ($)', color = 'b')\n",
    "ax1.set_xticklabels(products, rotation = 'vertical', size = 8)\n",
    "\n",
    "plt.show()"
   ]
  }
 ],
 "metadata": {
  "kernelspec": {
   "display_name": "Python (Main)",
   "language": "python",
   "name": "python-env"
  },
  "language_info": {
   "codemirror_mode": {
    "name": "ipython",
    "version": 3
   },
   "file_extension": ".py",
   "mimetype": "text/x-python",
   "name": "python",
   "nbconvert_exporter": "python",
   "pygments_lexer": "ipython3",
   "version": "3.11.13"
  }
 },
 "nbformat": 4,
 "nbformat_minor": 4
}
